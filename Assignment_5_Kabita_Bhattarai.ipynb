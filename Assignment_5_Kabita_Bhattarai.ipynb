{
  "cells": [
    {
      "cell_type": "markdown",
      "metadata": {
        "id": "slDIvZNBCjuW"
      },
      "source": [
        "Exercise 1"
      ]
    },
    {
      "cell_type": "code",
      "execution_count": 4,
      "metadata": {
        "id": "3iL3FqDABM9k"
      },
      "outputs": [],
      "source": [
        "import pandas as pd\n",
        "import numpy as np\n",
        "import seaborn as sns\n",
        "# for preprocessing\n",
        "from sklearn.model_selection import train_test_split\n",
        "from sklearn.preprocessing import StandardScaler\n",
        "\n",
        "# for KNN classifier and evaluation\n",
        "from sklearn.neighbors import KNeighborsClassifier\n",
        "from sklearn.metrics import confusion_matrix"
      ]
    },
    {
      "cell_type": "markdown",
      "metadata": {
        "id": "nrC4zlhsBhqy"
      },
      "source": [
        "The accompanying file contains 111 observations with the binary target variable y along with the predictor variables x1, x2, x3, and x4."
      ]
    },
    {
      "cell_type": "code",
      "execution_count": 5,
      "metadata": {
        "id": "UZUhW4Md_tXA"
      },
      "outputs": [
        {
          "data": {
            "text/html": [
              "<div>\n",
              "<style scoped>\n",
              "    .dataframe tbody tr th:only-of-type {\n",
              "        vertical-align: middle;\n",
              "    }\n",
              "\n",
              "    .dataframe tbody tr th {\n",
              "        vertical-align: top;\n",
              "    }\n",
              "\n",
              "    .dataframe thead th {\n",
              "        text-align: right;\n",
              "    }\n",
              "</style>\n",
              "<table border=\"1\" class=\"dataframe\">\n",
              "  <thead>\n",
              "    <tr style=\"text-align: right;\">\n",
              "      <th></th>\n",
              "      <th>y</th>\n",
              "      <th>x1</th>\n",
              "      <th>x2</th>\n",
              "      <th>x3</th>\n",
              "      <th>x4</th>\n",
              "    </tr>\n",
              "  </thead>\n",
              "  <tbody>\n",
              "    <tr>\n",
              "      <th>0</th>\n",
              "      <td>1</td>\n",
              "      <td>74900</td>\n",
              "      <td>86</td>\n",
              "      <td>98</td>\n",
              "      <td>29886</td>\n",
              "    </tr>\n",
              "    <tr>\n",
              "      <th>1</th>\n",
              "      <td>1</td>\n",
              "      <td>60600</td>\n",
              "      <td>84</td>\n",
              "      <td>95</td>\n",
              "      <td>34603</td>\n",
              "    </tr>\n",
              "    <tr>\n",
              "      <th>2</th>\n",
              "      <td>1</td>\n",
              "      <td>52900</td>\n",
              "      <td>65</td>\n",
              "      <td>90</td>\n",
              "      <td>28107</td>\n",
              "    </tr>\n",
              "    <tr>\n",
              "      <th>3</th>\n",
              "      <td>0</td>\n",
              "      <td>44000</td>\n",
              "      <td>65</td>\n",
              "      <td>95</td>\n",
              "      <td>23583</td>\n",
              "    </tr>\n",
              "    <tr>\n",
              "      <th>4</th>\n",
              "      <td>1</td>\n",
              "      <td>54500</td>\n",
              "      <td>68</td>\n",
              "      <td>92</td>\n",
              "      <td>34086</td>\n",
              "    </tr>\n",
              "    <tr>\n",
              "      <th>5</th>\n",
              "      <td>1</td>\n",
              "      <td>45200</td>\n",
              "      <td>61</td>\n",
              "      <td>83</td>\n",
              "      <td>19156</td>\n",
              "    </tr>\n",
              "    <tr>\n",
              "      <th>6</th>\n",
              "      <td>1</td>\n",
              "      <td>40400</td>\n",
              "      <td>62</td>\n",
              "      <td>89</td>\n",
              "      <td>31564</td>\n",
              "    </tr>\n",
              "    <tr>\n",
              "      <th>7</th>\n",
              "      <td>1</td>\n",
              "      <td>51800</td>\n",
              "      <td>74</td>\n",
              "      <td>87</td>\n",
              "      <td>33821</td>\n",
              "    </tr>\n",
              "    <tr>\n",
              "      <th>8</th>\n",
              "      <td>1</td>\n",
              "      <td>44100</td>\n",
              "      <td>80</td>\n",
              "      <td>94</td>\n",
              "      <td>23415</td>\n",
              "    </tr>\n",
              "    <tr>\n",
              "      <th>9</th>\n",
              "      <td>0</td>\n",
              "      <td>38600</td>\n",
              "      <td>56</td>\n",
              "      <td>88</td>\n",
              "      <td>22644</td>\n",
              "    </tr>\n",
              "  </tbody>\n",
              "</table>\n",
              "</div>"
            ],
            "text/plain": [
              "   y     x1  x2  x3     x4\n",
              "0  1  74900  86  98  29886\n",
              "1  1  60600  84  95  34603\n",
              "2  1  52900  65  90  28107\n",
              "3  0  44000  65  95  23583\n",
              "4  1  54500  68  92  34086\n",
              "5  1  45200  61  83  19156\n",
              "6  1  40400  62  89  31564\n",
              "7  1  51800  74  87  33821\n",
              "8  1  44100  80  94  23415\n",
              "9  0  38600  56  88  22644"
            ]
          },
          "execution_count": 5,
          "metadata": {},
          "output_type": "execute_result"
        }
      ],
      "source": [
        "# load data (remember to upload the datafile you downloaded from connect to colab)\n",
        "projdata=pd.read_excel('/Users/kabu/Downloads/Q1_Data_File.xlsx')\n",
        "projdata.head(10)"
      ]
    },
    {
      "cell_type": "markdown",
      "metadata": {
        "id": "DP9lVZeTAzhS"
      },
      "source": [
        "Partition data sets into 70% training and 30% testing. Use the argument random_state = 8 to specify the random seed of 8 for data partitioning. Don`t forget to scale your data using standardization."
      ]
    },
    {
      "cell_type": "code",
      "execution_count": 6,
      "metadata": {
        "id": "iFuCmBmUBlVy"
      },
      "outputs": [],
      "source": [
        "# split into training and testing data\n",
        "\n",
        "#predictors \n",
        "X=projdata.drop('y', axis=1)\n",
        "y=projdata['y']\n",
        "\n",
        "#train and test split\n",
        "X_train, X_test, y_train, y_test =train_test_split(X, y, test_size=0.3, random_state=8, stratify=y )"
      ]
    },
    {
      "cell_type": "code",
      "execution_count": 7,
      "metadata": {
        "id": "L-nCth6OB9i8"
      },
      "outputs": [],
      "source": [
        "# standardizer\n",
        "standardizer = StandardScaler(). fit(X_train)\n",
        "standardizer\n",
        "\n",
        "#apply\n",
        "X_trainS= pd.DataFrame(standardizer. transform(X_train), columns=X_train.columns)\n",
        "X_testS= pd.DataFrame(standardizer.transform(X_test), columns=X_test.columns)"
      ]
    },
    {
      "cell_type": "markdown",
      "metadata": {
        "id": "9W3tezllBmhi"
      },
      "source": [
        "Perform KNN analysis on the data set. What is the optimal value of k. (based on testing accuracy, look for the optimal k-value between 1 and 15) FIns the optimal k"
      ]
    },
    {
      "cell_type": "code",
      "execution_count": 8,
      "metadata": {
        "id": "dGGgpr3PBv6a"
      },
      "outputs": [],
      "source": [
        "# Conduct KNN to find accuracy values for all Ks between 1 -15. (as in tutorial video)\n",
        " \n",
        "kvalues=np.arange(1,15)\n",
        "accuracy_train=np.empty(len(kvalues))\n",
        "accuracy_test=np.empty(len(kvalues))\n",
        "\n",
        "#iterate\n",
        "for i, k in enumerate(kvalues):\n",
        "\n",
        "    #create model\n",
        "    knn=KNeighborsClassifier(n_neighbors=k)\n",
        "\n",
        "    #fit classifier to training data \n",
        "    knn.fit(X_trainS, y_train)\n",
        "\n",
        "    #accuracy comparison \n",
        "    accuracy_train[i]=knn.score(X_trainS, y_train)\n",
        "\n",
        "    #compute accuracy for test data \n",
        "    accuracy_test[i]=knn.score(X_testS, y_test)\n",
        "\n"
      ]
    },
    {
      "cell_type": "code",
      "execution_count": 9,
      "metadata": {
        "id": "jwd4O3TICFDK"
      },
      "outputs": [
        {
          "data": {
            "text/plain": [
              "<Axes: >"
            ]
          },
          "execution_count": 9,
          "metadata": {},
          "output_type": "execute_result"
        },
        {
          "data": {
            "image/png": "[encoded data removed]",
            "text/plain": [
              "<Figure size 640x480 with 1 Axes>"
            ]
          },
          "metadata": {},
          "output_type": "display_data"
        }
      ],
      "source": [
        "# Create an accuracy table to check which K is the best on the testing set\n",
        "sns.lineplot(data=accuracy_test)"
      ]
    },
    {
      "cell_type": "markdown",
      "metadata": {
        "id": "DdoN1vNABuvK"
      },
      "source": [
        "b-1. Using the optimal k-value, report the accuracy, specificity, sensitivity, and precision rates for the test data set. (Round your answers to 2 decimal places.) Please note that the confusion_matrix function has the 0 and 1 values the other way around compared to our textbook."
      ]
    },
    {
      "cell_type": "code",
      "execution_count": 10,
      "metadata": {
        "id": "2aIqdIn-BwfE"
      },
      "outputs": [
        {
          "data": {
            "text/plain": [
              "0.7647058823529411"
            ]
          },
          "execution_count": 10,
          "metadata": {},
          "output_type": "execute_result"
        }
      ],
      "source": [
        "# Create predictions using the highest accuracy k-value\n",
        "\n",
        "knn=KNeighborsClassifier(n_neighbors=9)\n",
        "\n",
        "#fit into training data\n",
        "knn.fit(X_trainS, y_train)\n",
        "\n",
        "#get scores\n",
        "knn.score(X_testS, y_test)\n",
        "\n",
        "\n"
      ]
    },
    {
      "cell_type": "code",
      "execution_count": 11,
      "metadata": {
        "id": "XdNgP4lECaN1"
      },
      "outputs": [
        {
          "data": {
            "text/plain": [
              "array([[12,  5],\n",
              "       [ 3, 14]])"
            ]
          },
          "execution_count": 11,
          "metadata": {},
          "output_type": "execute_result"
        }
      ],
      "source": [
        "# Create confusion matrix with actual test values and predictions\n",
        "\n",
        "#get predictions\n",
        "predictions=knn.predict(X_testS)\n",
        "\n",
        "confusion_matrix(y_test, predictions)\n",
        "confusion=confusion_matrix(y_test, predictions)\n",
        "confusion"
      ]
    },
    {
      "cell_type": "code",
      "execution_count": 13,
      "metadata": {
        "id": "yukNsnjZCb5j"
      },
      "outputs": [
        {
          "name": "stdout",
          "output_type": "stream",
          "text": [
            "Error rate is 0.24\n",
            "Accuracy is 0.76\n",
            "Sensitivity is 0.82\n",
            "Precision is 0.74\n",
            "Specificity is 0.71\n",
            "False positive is 0.29\n"
          ]
        }
      ],
      "source": [
        "# Calcaulate Confusion Metrics\n",
        "TN= confusion[0,0]\n",
        "TP=confusion[1,1]\n",
        "FP=confusion[0,1]\n",
        "FN=confusion[1,0]\n",
        "\n",
        "#Misclassification (error rate)\n",
        "ErrorRate= (FP + FN) / (TP+TN+FP+FN)\n",
        "print(\"Error rate is\", np.round(ErrorRate, 2))\n",
        "\n",
        "#Accuracy \n",
        "Accuracy= (TP+TN) / (TP+TN+FP+FN)\n",
        "print(\"Accuracy is\", np.round(Accuracy, 2))\n",
        "\n",
        "#True Positive, Sensitivity\n",
        "Sensitivity= (TP)/ (TP + FN)\n",
        "print(\"Sensitivity is\", round(Sensitivity, 2))\n",
        "\n",
        "#Precision\n",
        "Precision= (TP) / (TP+FP)\n",
        "print(\"Precision is\", np.round(Precision, 2))\n",
        "\n",
        "#Specificity \n",
        "Specificity= (TN)/(TN+FP)\n",
        "print(\"Specificity is\", np.round(Specificity, 2))\n",
        "\n",
        "#False Positive\n",
        "FalsePositive= (FP) / (TN+FP)\n",
        "print(\"False positive is\", round(FalsePositive, 2))\n"
      ]
    },
    {
      "cell_type": "markdown",
      "metadata": {
        "id": "5GU5TpYRCpTr"
      },
      "source": [
        "Exercise 2"
      ]
    },
    {
      "cell_type": "markdown",
      "metadata": {
        "id": "KQ83S7nECvML"
      },
      "source": [
        "Universities often rely on a high school student’s grade point average (GPA) and scores on the SAT or ACT for the college admission decisions. Consider the data for 120 applicants on college admission (Admit equals 1 if admitted, 0 otherwise) along with the student’s GPA and SAT scores."
      ]
    },
    {
      "cell_type": "code",
      "execution_count": 33,
      "metadata": {
        "id": "Ak59NSKhCzky"
      },
      "outputs": [
        {
          "data": {
            "text/html": [
              "<div>\n",
              "<style scoped>\n",
              "    .dataframe tbody tr th:only-of-type {\n",
              "        vertical-align: middle;\n",
              "    }\n",
              "\n",
              "    .dataframe tbody tr th {\n",
              "        vertical-align: top;\n",
              "    }\n",
              "\n",
              "    .dataframe thead th {\n",
              "        text-align: right;\n",
              "    }\n",
              "</style>\n",
              "<table border=\"1\" class=\"dataframe\">\n",
              "  <thead>\n",
              "    <tr style=\"text-align: right;\">\n",
              "      <th></th>\n",
              "      <th>Admit</th>\n",
              "      <th>GPA</th>\n",
              "      <th>SAT</th>\n",
              "    </tr>\n",
              "  </thead>\n",
              "  <tbody>\n",
              "    <tr>\n",
              "      <th>0</th>\n",
              "      <td>1</td>\n",
              "      <td>3.1</td>\n",
              "      <td>1550</td>\n",
              "    </tr>\n",
              "    <tr>\n",
              "      <th>1</th>\n",
              "      <td>0</td>\n",
              "      <td>2.7</td>\n",
              "      <td>1360</td>\n",
              "    </tr>\n",
              "    <tr>\n",
              "      <th>2</th>\n",
              "      <td>1</td>\n",
              "      <td>2.6</td>\n",
              "      <td>1470</td>\n",
              "    </tr>\n",
              "    <tr>\n",
              "      <th>3</th>\n",
              "      <td>1</td>\n",
              "      <td>3.7</td>\n",
              "      <td>1450</td>\n",
              "    </tr>\n",
              "    <tr>\n",
              "      <th>4</th>\n",
              "      <td>1</td>\n",
              "      <td>3.1</td>\n",
              "      <td>1500</td>\n",
              "    </tr>\n",
              "    <tr>\n",
              "      <th>...</th>\n",
              "      <td>...</td>\n",
              "      <td>...</td>\n",
              "      <td>...</td>\n",
              "    </tr>\n",
              "    <tr>\n",
              "      <th>115</th>\n",
              "      <td>1</td>\n",
              "      <td>3.5</td>\n",
              "      <td>1440</td>\n",
              "    </tr>\n",
              "    <tr>\n",
              "      <th>116</th>\n",
              "      <td>0</td>\n",
              "      <td>3.9</td>\n",
              "      <td>1080</td>\n",
              "    </tr>\n",
              "    <tr>\n",
              "      <th>117</th>\n",
              "      <td>0</td>\n",
              "      <td>3.5</td>\n",
              "      <td>1310</td>\n",
              "    </tr>\n",
              "    <tr>\n",
              "      <th>118</th>\n",
              "      <td>0</td>\n",
              "      <td>3.3</td>\n",
              "      <td>1550</td>\n",
              "    </tr>\n",
              "    <tr>\n",
              "      <th>119</th>\n",
              "      <td>1</td>\n",
              "      <td>4.4</td>\n",
              "      <td>1320</td>\n",
              "    </tr>\n",
              "  </tbody>\n",
              "</table>\n",
              "<p>120 rows × 3 columns</p>\n",
              "</div>"
            ],
            "text/plain": [
              "     Admit  GPA   SAT\n",
              "0        1  3.1  1550\n",
              "1        0  2.7  1360\n",
              "2        1  2.6  1470\n",
              "3        1  3.7  1450\n",
              "4        1  3.1  1500\n",
              "..     ...  ...   ...\n",
              "115      1  3.5  1440\n",
              "116      0  3.9  1080\n",
              "117      0  3.5  1310\n",
              "118      0  3.3  1550\n",
              "119      1  4.4  1320\n",
              "\n",
              "[120 rows x 3 columns]"
            ]
          },
          "execution_count": 33,
          "metadata": {},
          "output_type": "execute_result"
        }
      ],
      "source": [
        "# load data (remember to upload the datafile you downloaded from connect to colab)\n",
        "studentdata=pd.read_excel('/Users/kabu/Downloads/Q2_Data_File.xlsx')\n",
        "studentdata"
      ]
    },
    {
      "cell_type": "markdown",
      "metadata": {
        "id": "soC7Zc34C05D"
      },
      "source": [
        "Partition data sets into 70% training and 30% testing. Use the argument random_state = 82 to specify the random seed of 82 for data partitioning. Don`t forget to scale your data using standardization."
      ]
    },
    {
      "cell_type": "code",
      "execution_count": 36,
      "metadata": {
        "id": "SJkK1JfcC0pz"
      },
      "outputs": [],
      "source": [
        "# split into training and testing data\n",
        "\n",
        "X= studentdata.drop('Admit', axis=1)\n",
        "y=studentdata['Admit']\n",
        "y.head()\n",
        "\n",
        "X_train, X_test, y_train, y_test = train_test_split (X, y, test_size= 0.3, random_state=82, stratify=y)"
      ]
    },
    {
      "cell_type": "code",
      "execution_count": 39,
      "metadata": {
        "id": "x6N3cDbeDaZ6"
      },
      "outputs": [],
      "source": [
        "# standardize\n",
        "standardizer=StandardScaler().fit(X_train)\n",
        "standardizer\n",
        "\n",
        "X_trainSS=pd.DataFrame(standardizer.transform(X_train), \n",
        "                       columns=X_train.columns)\n",
        "X_testSS=pd.DataFrame(standardizer.transform(X_test), columns=X_test.columns)\n"
      ]
    },
    {
      "cell_type": "markdown",
      "metadata": {
        "id": "mnPu0gJPDMlL"
      },
      "source": [
        "a. Perform KNN analysis on the data set. What is the optimal value of k. (based on testing accuracy, look for the optimal k-value between 1 and 30) Enter the optimal k in the box below:"
      ]
    },
    {
      "cell_type": "code",
      "execution_count": 41,
      "metadata": {
        "id": "Ui5b3sxrDNWi"
      },
      "outputs": [],
      "source": [
        "# Conduct KNN to find accuracy values for all Ks between 1 -15. (as in tutorial video)\n",
        "kvalues=np.arange(1,15)\n",
        "accuracy_train=np.empty(len(kvalues))\n",
        "accuracy_test=np.empty(len(kvalues))\n",
        "\n",
        "#iterate\n",
        "for i, k in enumerate(kvalues):\n",
        "\n",
        "    #create model\n",
        "    knn=KNeighborsClassifier(n_neighbors=k)\n",
        "\n",
        "    #fit classifier to training data \n",
        "    knn.fit(X_trainSS, y_train)\n",
        "\n",
        "    #accuracy comparison \n",
        "    accuracy_train[i]=knn.score(X_trainSS, y_train)\n",
        "\n",
        "    #compute accuracy for test data \n",
        "    accuracy_test[i]=knn.score(X_testSS, y_test)"
      ]
    },
    {
      "cell_type": "code",
      "execution_count": 42,
      "metadata": {
        "id": "NhzpyzwIENL8"
      },
      "outputs": [
        {
          "data": {
            "text/plain": [
              "<Axes: >"
            ]
          },
          "execution_count": 42,
          "metadata": {},
          "output_type": "execute_result"
        },
        {
          "data": {
            "image/png": "[encoded data removed]",
            "text/plain": [
              "<Figure size 640x480 with 1 Axes>"
            ]
          },
          "metadata": {},
          "output_type": "display_data"
        }
      ],
      "source": [
        "# Create an accuracy table to check which K is the best on the testing set\n",
        "sns.lineplot(data=accuracy_test)"
      ]
    },
    {
      "cell_type": "markdown",
      "metadata": {
        "id": "Kd6-ZnfdDNrc"
      },
      "source": [
        "b-1. Using the optimal k-value, report the accuracy, specificity, sensitivity, and precision rates for the test data set. (Round your answers to 2 decimal places.) Please note that the confusion_matrix function has the 0 and 1 values the other way around compared to our textbook."
      ]
    },
    {
      "cell_type": "code",
      "execution_count": 44,
      "metadata": {
        "id": "f-tWCNXHEQXr"
      },
      "outputs": [
        {
          "data": {
            "text/plain": [
              "0.8333333333333334"
            ]
          },
          "execution_count": 44,
          "metadata": {},
          "output_type": "execute_result"
        }
      ],
      "source": [
        "# Create predictions using the highest accuracy k-value\n",
        "knn= KNeighborsClassifier(n_neighbors=7)\n",
        "#fit into training data\n",
        "knn.fit(X_trainSS, y_train)\n",
        "\n",
        "#get scores\n",
        "knn.score(X_testSS, y_test)"
      ]
    },
    {
      "cell_type": "code",
      "execution_count": 48,
      "metadata": {
        "id": "kYQs2FpiEYkL"
      },
      "outputs": [
        {
          "data": {
            "text/plain": [
              "array([[ 9,  5],\n",
              "       [ 1, 21]])"
            ]
          },
          "execution_count": 48,
          "metadata": {},
          "output_type": "execute_result"
        }
      ],
      "source": [
        "# Create confusion matrix with actual test values and predictions\n",
        "\n",
        "#predictions\n",
        "predictions=knn.predict(X_testSS)\n",
        "\n",
        "confusion_matrix(y_test, predictions)\n",
        "confusion=confusion_matrix(y_test, predictions)\n",
        "confusion"
      ]
    },
    {
      "cell_type": "code",
      "execution_count": 49,
      "metadata": {
        "id": "BL16R_U3Ebt8"
      },
      "outputs": [
        {
          "name": "stdout",
          "output_type": "stream",
          "text": [
            "Error rate is 0.17\n",
            "Accuracy is 0.83\n",
            "Sensitivity is 0.95\n",
            "Precision is 0.81\n",
            "Specificity is 0.64\n",
            "False positive is 0.36\n"
          ]
        }
      ],
      "source": [
        "# Calcaulate Confusion Metrics\n",
        "\n",
        "TN= confusion[0,0]\n",
        "TP=confusion[1,1]\n",
        "FP=confusion[0,1]\n",
        "FN=confusion[1,0]\n",
        "\n",
        "#Misclassification (error rate)\n",
        "ErrorRate= (FP + FN) / (TP+TN+FP+FN)\n",
        "print(\"Error rate is\", np.round(ErrorRate, 2))\n",
        "\n",
        "#Accuracy \n",
        "Accuracy= (TP+TN) / (TP+TN+FP+FN)\n",
        "print(\"Accuracy is\", np.round(Accuracy, 2))\n",
        "\n",
        "#True Positive, Sensitivity\n",
        "Sensitivity= (TP)/ (TP + FN)\n",
        "print(\"Sensitivity is\", round(Sensitivity, 2))\n",
        "\n",
        "#Precision\n",
        "Precision= (TP) / (TP+FP)\n",
        "print(\"Precision is\", np.round(Precision, 2))\n",
        "\n",
        "#Specificity \n",
        "Specificity= (TN)/(TN+FP)\n",
        "print(\"Specificity is\", np.round(Specificity, 2))\n",
        "\n",
        "#False Positive\n",
        "FalsePositive= (FP) / (TN+FP)\n",
        "print(\"False positive is\", round(FalsePositive, 2))"
      ]
    }
  ],
  "metadata": {
    "colab": {
      "provenance": []
    },
    "kernelspec": {
      "display_name": "Python 3",
      "name": "python3"
    },
    "language_info": {
      "codemirror_mode": {
        "name": "ipython",
        "version": 3
      },
      "file_extension": ".py",
      "mimetype": "text/x-python",
      "name": "python",
      "nbconvert_exporter": "python",
      "pygments_lexer": "ipython3",
      "version": "3.13.4"
    }
  },
  "nbformat": 4,
  "nbformat_minor": 0
}
