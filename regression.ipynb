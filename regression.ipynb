{
  "cells": [
    {
      "cell_type": "markdown",
      "metadata": {
        "id": "vCSl8qBmKzQm"
      },
      "source": [
        "Exercise 2"
      ]
    },
    {
      "cell_type": "markdown",
      "metadata": {
        "id": "jYo8aTXqK3H0"
      },
      "source": [
        "A social scientist would like to analyze the relationship between educational attainment (in years of higher education) and annual salary (in $1,000s). He collects data on 20 individuals. A portion of the data is as follows:"
      ]
    },
    {
      "cell_type": "code",
      "execution_count": 4,
      "metadata": {
        "id": "uv9p1UE5LvO9"
      },
      "outputs": [],
      "source": [
        "# Load Packages \n",
        "import numpy as np\n",
        "# for the dataset\n",
        "import pandas as pd\n",
        "\n",
        "# for the statistical analysis\n",
        "import statsmodels.formula.api as smf\n",
        "\n",
        "# for the visualizations\n",
        "import statsmodels.api as sm\n",
        "import statsmodels.graphics.api as smg\n",
        "import matplotlib.pyplot as plt\n",
        "\n",
        "# Load Packages \n",
        "# for the dataset\n",
        "import pandas as pd\n",
        "import numpy as np\n",
        "\n",
        "# for the statistical analysis\n",
        "import statsmodels.formula.api as smf\n",
        "from statsmodels.api import families\n"
      ]
    },
    {
      "cell_type": "code",
      "execution_count": null,
      "metadata": {
        "id": "RGltmiOHJ4rA"
      },
      "outputs": [],
      "source": [
        "# load data (remember to upload the datafile you downloaded from connect to colab)\n",
        "data=pd.read_excel('Ch7_Q7_V09_Data_File.xlsx')\n",
        "data.head()"
      ]
    },
    {
      "cell_type": "markdown",
      "metadata": {
        "id": "ZvslwH8oK5l9"
      },
      "source": [
        "a. Find the sample regression equation for the model: Salary = β0 + β1Education + ε."
      ]
    },
    {
      "cell_type": "code",
      "execution_count": 14,
      "metadata": {
        "id": "9cgXRbCRK-x9"
      },
      "outputs": [
        {
          "data": {
            "text/html": [
              "<table class=\"simpletable\">\n",
              "<tr>\n",
              "        <td>Model:</td>               <td>OLS</td>         <td>Adj. R-squared:</td>     <td>0.120</td> \n",
              "</tr>\n",
              "<tr>\n",
              "  <td>Dependent Variable:</td>      <td>Salary</td>             <td>AIC:</td>         <td>196.6603</td>\n",
              "</tr>\n",
              "<tr>\n",
              "         <td>Date:</td>        <td>2025-10-27 17:12</td>        <td>BIC:</td>         <td>198.6518</td>\n",
              "</tr>\n",
              "<tr>\n",
              "   <td>No. Observations:</td>         <td>20</td>          <td>Log-Likelihood:</td>    <td>-96.330</td>\n",
              "</tr>\n",
              "<tr>\n",
              "       <td>Df Model:</td>              <td>1</td>           <td>F-statistic:</td>       <td>3.602</td> \n",
              "</tr>\n",
              "<tr>\n",
              "     <td>Df Residuals:</td>           <td>18</td>        <td>Prob (F-statistic):</td>  <td>0.0739</td> \n",
              "</tr>\n",
              "<tr>\n",
              "      <td>R-squared:</td>            <td>0.167</td>            <td>Scale:</td>         <td>992.77</td> \n",
              "</tr>\n",
              "</table>\n",
              "<table class=\"simpletable\">\n",
              "<tr>\n",
              "      <td></td>       <th>Coef.</th>  <th>Std.Err.</th>    <th>t</th>    <th>P>|t|</th> <th>[0.025</th>  <th>0.975]</th> \n",
              "</tr>\n",
              "<tr>\n",
              "  <th>Intercept</th> <td>45.9269</td>  <td>14.1877</td> <td>3.2371</td> <td>0.0046</td> <td>16.1198</td> <td>75.7341</td>\n",
              "</tr>\n",
              "<tr>\n",
              "  <th>Education</th> <td>4.6283</td>   <td>2.4385</td>  <td>1.8980</td> <td>0.0739</td> <td>-0.4949</td> <td>9.7515</td> \n",
              "</tr>\n",
              "</table>\n",
              "<table class=\"simpletable\">\n",
              "<tr>\n",
              "     <td>Omnibus:</td>    <td>5.824</td>  <td>Durbin-Watson:</td>   <td>2.004</td>\n",
              "</tr>\n",
              "<tr>\n",
              "  <td>Prob(Omnibus):</td> <td>0.054</td> <td>Jarque-Bera (JB):</td> <td>3.866</td>\n",
              "</tr>\n",
              "<tr>\n",
              "       <td>Skew:</td>     <td>1.055</td>     <td>Prob(JB):</td>     <td>0.145</td>\n",
              "</tr>\n",
              "<tr>\n",
              "     <td>Kurtosis:</td>   <td>3.431</td>  <td>Condition No.:</td>    <td>12</td>  \n",
              "</tr>\n",
              "</table><br/>\n",
              "Notes:<br/>\n",
              "[1] Standard Errors assume that the covariance matrix of the errors is correctly specified."
            ],
            "text/latex": [
              "\\begin{table}\n",
              "\\caption{Results: Ordinary least squares}\n",
              "\\label{}\n",
              "\\begin{center}\n",
              "\\begin{tabular}{llll}\n",
              "\\hline\n",
              "Model:              & OLS              & Adj. R-squared:     & 0.120     \\\\\n",
              "Dependent Variable: & Salary           & AIC:                & 196.6603  \\\\\n",
              "Date:               & 2025-10-27 17:12 & BIC:                & 198.6518  \\\\\n",
              "No. Observations:   & 20               & Log-Likelihood:     & -96.330   \\\\\n",
              "Df Model:           & 1                & F-statistic:        & 3.602     \\\\\n",
              "Df Residuals:       & 18               & Prob (F-statistic): & 0.0739    \\\\\n",
              "R-squared:          & 0.167            & Scale:              & 992.77    \\\\\n",
              "\\hline\n",
              "\\end{tabular}\n",
              "\\end{center}\n",
              "\n",
              "\\begin{center}\n",
              "\\begin{tabular}{lrrrrrr}\n",
              "\\hline\n",
              "          &   Coef. & Std.Err. &      t & P$> |$t$|$ &  [0.025 &  0.975]  \\\\\n",
              "\\hline\n",
              "Intercept & 45.9269 &  14.1877 & 3.2371 &      0.0046 & 16.1198 & 75.7341  \\\\\n",
              "Education &  4.6283 &   2.4385 & 1.8980 &      0.0739 & -0.4949 &  9.7515  \\\\\n",
              "\\hline\n",
              "\\end{tabular}\n",
              "\\end{center}\n",
              "\n",
              "\\begin{center}\n",
              "\\begin{tabular}{llll}\n",
              "\\hline\n",
              "Omnibus:       & 5.824 & Durbin-Watson:    & 2.004  \\\\\n",
              "Prob(Omnibus): & 0.054 & Jarque-Bera (JB): & 3.866  \\\\\n",
              "Skew:          & 1.055 & Prob(JB):         & 0.145  \\\\\n",
              "Kurtosis:      & 3.431 & Condition No.:    & 12     \\\\\n",
              "\\hline\n",
              "\\end{tabular}\n",
              "\\end{center}\n",
              "\\end{table}\n",
              "\\bigskip\n",
              "Notes: \\newline \n",
              "[1] Standard Errors assume that the covariance matrix of the errors is correctly specified."
            ],
            "text/plain": [
              "<class 'statsmodels.iolib.summary2.Summary'>\n",
              "\"\"\"\n",
              "                 Results: Ordinary least squares\n",
              "=================================================================\n",
              "Model:              OLS              Adj. R-squared:     0.120   \n",
              "Dependent Variable: Salary           AIC:                196.6603\n",
              "Date:               2025-10-27 17:12 BIC:                198.6518\n",
              "No. Observations:   20               Log-Likelihood:     -96.330 \n",
              "Df Model:           1                F-statistic:        3.602   \n",
              "Df Residuals:       18               Prob (F-statistic): 0.0739  \n",
              "R-squared:          0.167            Scale:              992.77  \n",
              "------------------------------------------------------------------\n",
              "                Coef.   Std.Err.    t     P>|t|    [0.025   0.975]\n",
              "------------------------------------------------------------------\n",
              "Intercept      45.9269   14.1877  3.2371  0.0046  16.1198  75.7341\n",
              "Education       4.6283    2.4385  1.8980  0.0739  -0.4949   9.7515\n",
              "-----------------------------------------------------------------\n",
              "Omnibus:              5.824        Durbin-Watson:           2.004\n",
              "Prob(Omnibus):        0.054        Jarque-Bera (JB):        3.866\n",
              "Skew:                 1.055        Prob(JB):                0.145\n",
              "Kurtosis:             3.431        Condition No.:           12   \n",
              "=================================================================\n",
              "Notes:\n",
              "[1] Standard Errors assume that the covariance matrix of the\n",
              "errors is correctly specified.\n",
              "\"\"\""
            ]
          },
          "execution_count": 14,
          "metadata": {},
          "output_type": "execute_result"
        }
      ],
      "source": [
        "# Create Linear Regression Model\n",
        "model0=smf.ols(formula='Salary ~ Education ', data=data).fit()\n",
        "model0.summary2()"
      ]
    },
    {
      "cell_type": "markdown",
      "metadata": {
        "id": "iM3ayAVaTxY2"
      },
      "source": [
        "c. What is the predicted salary (in $1,000s) for an individual who completed ... years of higher education? "
      ]
    },
    {
      "cell_type": "code",
      "execution_count": 21,
      "metadata": {
        "id": "S_3-QH5_TyP8"
      },
      "outputs": [
        {
          "name": "stdout",
          "output_type": "stream",
          "text": [
            "0    73.697\n",
            "dtype: float64\n"
          ]
        }
      ],
      "source": [
        "# create a new dataframe with the desired properties (6 years of education)\n",
        "predictModel=pd.DataFrame({'Education':[6] })\n",
        "prediction=model0.predict(predictModel)\n",
        "print(round(prediction, 3))\n"
      ]
    },
    {
      "cell_type": "markdown",
      "metadata": {
        "id": "9yg5f38HUNs8"
      },
      "source": [
        "Exercise 3"
      ]
    },
    {
      "cell_type": "markdown",
      "metadata": {
        "id": "KAJdPPP9US9L"
      },
      "source": [
        "American football is the highest-paying sport on a per-game basis. Given that the quarterback is considered the most important player on the team, he is typically well-compensated. A sports statistician examines the factors that influence a quarterback’s salary. He believes that a quarterback’s pass completion rate is the most important variable affecting salary. He also wonders how total touchdowns scored and a quarterback’s age might impact salary. The statistician collects data on salary (Salary in $ millions), pass completion rate (PC in %), total touchdowns scored (TD), and age for 32 quarterbacks during a recent season. A portion of the data is shown in the accompanying table."
      ]
    },
    {
      "cell_type": "code",
      "execution_count": 34,
      "metadata": {
        "id": "ejuxwkj4URfb"
      },
      "outputs": [
        {
          "data": {
            "text/html": [
              "<div>\n",
              "<style scoped>\n",
              "    .dataframe tbody tr th:only-of-type {\n",
              "        vertical-align: middle;\n",
              "    }\n",
              "\n",
              "    .dataframe tbody tr th {\n",
              "        vertical-align: top;\n",
              "    }\n",
              "\n",
              "    .dataframe thead th {\n",
              "        text-align: right;\n",
              "    }\n",
              "</style>\n",
              "<table border=\"1\" class=\"dataframe\">\n",
              "  <thead>\n",
              "    <tr style=\"text-align: right;\">\n",
              "      <th></th>\n",
              "      <th>Player</th>\n",
              "      <th>Salary</th>\n",
              "      <th>PC</th>\n",
              "      <th>TD</th>\n",
              "      <th>Age</th>\n",
              "    </tr>\n",
              "  </thead>\n",
              "  <tbody>\n",
              "    <tr>\n",
              "      <th>0</th>\n",
              "      <td>1</td>\n",
              "      <td>25.55663</td>\n",
              "      <td>65.2</td>\n",
              "      <td>28</td>\n",
              "      <td>27</td>\n",
              "    </tr>\n",
              "    <tr>\n",
              "      <th>1</th>\n",
              "      <td>2</td>\n",
              "      <td>22.04409</td>\n",
              "      <td>60.5</td>\n",
              "      <td>27</td>\n",
              "      <td>26</td>\n",
              "    </tr>\n",
              "    <tr>\n",
              "      <th>2</th>\n",
              "      <td>3</td>\n",
              "      <td>20.50000</td>\n",
              "      <td>62.3</td>\n",
              "      <td>27</td>\n",
              "      <td>28</td>\n",
              "    </tr>\n",
              "    <tr>\n",
              "      <th>3</th>\n",
              "      <td>4</td>\n",
              "      <td>19.00468</td>\n",
              "      <td>66.1</td>\n",
              "      <td>26</td>\n",
              "      <td>38</td>\n",
              "    </tr>\n",
              "    <tr>\n",
              "      <th>4</th>\n",
              "      <td>5</td>\n",
              "      <td>17.00000</td>\n",
              "      <td>67.9</td>\n",
              "      <td>29</td>\n",
              "      <td>28</td>\n",
              "    </tr>\n",
              "  </tbody>\n",
              "</table>\n",
              "</div>"
            ],
            "text/plain": [
              "   Player    Salary    PC  TD   Age\n",
              "0       1  25.55663  65.2  28    27\n",
              "1       2  22.04409  60.5  27    26\n",
              "2       3  20.50000  62.3  27    28\n",
              "3       4  19.00468  66.1  26    38\n",
              "4       5  17.00000  67.9  29    28"
            ]
          },
          "execution_count": 34,
          "metadata": {},
          "output_type": "execute_result"
        }
      ],
      "source": [
        "# load data (remember to upload the datafile you downloaded from connect to colab)\n",
        "data1=pd.read_excel('Ch7_Q17_Data_File.xlsx')\n",
        "data1.head()"
      ]
    },
    {
      "cell_type": "code",
      "execution_count": 39,
      "metadata": {},
      "outputs": [
        {
          "name": "stdout",
          "output_type": "stream",
          "text": [
            "Index(['Player', 'Salary', 'PC', 'TD', 'Age'], dtype='object')\n"
          ]
        }
      ],
      "source": [
        "data1.columns=data1.columns.str.replace(' ', '')\n",
        "print(data1.columns)"
      ]
    },
    {
      "cell_type": "markdown",
      "metadata": {
        "id": "cwvFiD6LUp-4"
      },
      "source": [
        "a. Estimate the model defined as Salary = β0 + β1PC + β2TD + β3Age + ε. "
      ]
    },
    {
      "cell_type": "code",
      "execution_count": 40,
      "metadata": {
        "id": "3ypI08C6UpoR"
      },
      "outputs": [
        {
          "data": {
            "text/html": [
              "<table class=\"simpletable\">\n",
              "<tr>\n",
              "        <td>Model:</td>               <td>OLS</td>         <td>Adj. R-squared:</td>     <td>0.328</td> \n",
              "</tr>\n",
              "<tr>\n",
              "  <td>Dependent Variable:</td>      <td>Salary</td>             <td>AIC:</td>         <td>203.6307</td>\n",
              "</tr>\n",
              "<tr>\n",
              "         <td>Date:</td>        <td>2025-10-27 18:30</td>        <td>BIC:</td>         <td>209.4936</td>\n",
              "</tr>\n",
              "<tr>\n",
              "   <td>No. Observations:</td>         <td>32</td>          <td>Log-Likelihood:</td>    <td>-97.815</td>\n",
              "</tr>\n",
              "<tr>\n",
              "       <td>Df Model:</td>              <td>3</td>           <td>F-statistic:</td>       <td>6.045</td> \n",
              "</tr>\n",
              "<tr>\n",
              "     <td>Df Residuals:</td>           <td>28</td>        <td>Prob (F-statistic):</td>  <td>0.00262</td>\n",
              "</tr>\n",
              "<tr>\n",
              "      <td>R-squared:</td>            <td>0.393</td>            <td>Scale:</td>         <td>30.238</td> \n",
              "</tr>\n",
              "</table>\n",
              "<table class=\"simpletable\">\n",
              "<tr>\n",
              "      <td></td>       <th>Coef.</th>  <th>Std.Err.</th>    <th>t</th>     <th>P>|t|</th> <th>[0.025</th>  <th>0.975]</th> \n",
              "</tr>\n",
              "<tr>\n",
              "  <th>Intercept</th> <td>32.7867</td>  <td>20.7310</td> <td>1.5815</td>  <td>0.1250</td> <td>-9.6788</td> <td>75.2522</td>\n",
              "</tr>\n",
              "<tr>\n",
              "  <th>PC</th>        <td>-0.8265</td>  <td>0.4383</td>  <td>-1.8855</td> <td>0.0698</td> <td>-1.7244</td> <td>0.0714</td> \n",
              "</tr>\n",
              "<tr>\n",
              "  <th>TD</th>        <td>0.7850</td>   <td>0.2493</td>  <td>3.1491</td>  <td>0.0039</td> <td>0.2744</td>  <td>1.2956</td> \n",
              "</tr>\n",
              "<tr>\n",
              "  <th>Age</th>       <td>0.3862</td>   <td>0.2533</td>  <td>1.5248</td>  <td>0.1385</td> <td>-0.1326</td> <td>0.9050</td> \n",
              "</tr>\n",
              "</table>\n",
              "<table class=\"simpletable\">\n",
              "<tr>\n",
              "     <td>Omnibus:</td>    <td>3.046</td>  <td>Durbin-Watson:</td>   <td>0.929</td>\n",
              "</tr>\n",
              "<tr>\n",
              "  <td>Prob(Omnibus):</td> <td>0.218</td> <td>Jarque-Bera (JB):</td> <td>1.779</td>\n",
              "</tr>\n",
              "<tr>\n",
              "       <td>Skew:</td>     <td>0.518</td>     <td>Prob(JB):</td>     <td>0.411</td>\n",
              "</tr>\n",
              "<tr>\n",
              "     <td>Kurtosis:</td>   <td>3.510</td>  <td>Condition No.:</td>   <td>1500</td> \n",
              "</tr>\n",
              "</table><br/>\n",
              "Notes:<br/>\n",
              "[1] Standard Errors assume that the covariance matrix of the errors is correctly specified.<br/>\n",
              "[2] The condition number is large, 1.5e+03. This might indicate                that there are strong multicollinearity or other numerical                problems."
            ],
            "text/latex": [
              "\\begin{table}\n",
              "\\caption{Results: Ordinary least squares}\n",
              "\\label{}\n",
              "\\begin{center}\n",
              "\\begin{tabular}{llll}\n",
              "\\hline\n",
              "Model:              & OLS              & Adj. R-squared:     & 0.328     \\\\\n",
              "Dependent Variable: & Salary           & AIC:                & 203.6307  \\\\\n",
              "Date:               & 2025-10-27 18:30 & BIC:                & 209.4936  \\\\\n",
              "No. Observations:   & 32               & Log-Likelihood:     & -97.815   \\\\\n",
              "Df Model:           & 3                & F-statistic:        & 6.045     \\\\\n",
              "Df Residuals:       & 28               & Prob (F-statistic): & 0.00262   \\\\\n",
              "R-squared:          & 0.393            & Scale:              & 30.238    \\\\\n",
              "\\hline\n",
              "\\end{tabular}\n",
              "\\end{center}\n",
              "\n",
              "\\begin{center}\n",
              "\\begin{tabular}{lrrrrrr}\n",
              "\\hline\n",
              "          &   Coef. & Std.Err. &       t & P$> |$t$|$ &  [0.025 &  0.975]  \\\\\n",
              "\\hline\n",
              "Intercept & 32.7867 &  20.7310 &  1.5815 &      0.1250 & -9.6788 & 75.2522  \\\\\n",
              "PC        & -0.8265 &   0.4383 & -1.8855 &      0.0698 & -1.7244 &  0.0714  \\\\\n",
              "TD        &  0.7850 &   0.2493 &  3.1491 &      0.0039 &  0.2744 &  1.2956  \\\\\n",
              "Age       &  0.3862 &   0.2533 &  1.5248 &      0.1385 & -0.1326 &  0.9050  \\\\\n",
              "\\hline\n",
              "\\end{tabular}\n",
              "\\end{center}\n",
              "\n",
              "\\begin{center}\n",
              "\\begin{tabular}{llll}\n",
              "\\hline\n",
              "Omnibus:       & 3.046 & Durbin-Watson:    & 0.929  \\\\\n",
              "Prob(Omnibus): & 0.218 & Jarque-Bera (JB): & 1.779  \\\\\n",
              "Skew:          & 0.518 & Prob(JB):         & 0.411  \\\\\n",
              "Kurtosis:      & 3.510 & Condition No.:    & 1500   \\\\\n",
              "\\hline\n",
              "\\end{tabular}\n",
              "\\end{center}\n",
              "\\end{table}\n",
              "\\bigskip\n",
              "Notes: \\newline \n",
              "[1] Standard Errors assume that the covariance matrix of the errors is correctly specified. \\newline \n",
              "[2] The condition number is large, 1.5e+03. This might indicate                that there are strong multicollinearity or other numerical                problems."
            ],
            "text/plain": [
              "<class 'statsmodels.iolib.summary2.Summary'>\n",
              "\"\"\"\n",
              "                 Results: Ordinary least squares\n",
              "=================================================================\n",
              "Model:              OLS              Adj. R-squared:     0.328   \n",
              "Dependent Variable: Salary           AIC:                203.6307\n",
              "Date:               2025-10-27 18:30 BIC:                209.4936\n",
              "No. Observations:   32               Log-Likelihood:     -97.815 \n",
              "Df Model:           3                F-statistic:        6.045   \n",
              "Df Residuals:       28               Prob (F-statistic): 0.00262 \n",
              "R-squared:          0.393            Scale:              30.238  \n",
              "------------------------------------------------------------------\n",
              "               Coef.   Std.Err.     t     P>|t|    [0.025   0.975]\n",
              "------------------------------------------------------------------\n",
              "Intercept     32.7867   20.7310   1.5815  0.1250  -9.6788  75.2522\n",
              "PC            -0.8265    0.4383  -1.8855  0.0698  -1.7244   0.0714\n",
              "TD             0.7850    0.2493   3.1491  0.0039   0.2744   1.2956\n",
              "Age            0.3862    0.2533   1.5248  0.1385  -0.1326   0.9050\n",
              "-----------------------------------------------------------------\n",
              "Omnibus:              3.046        Durbin-Watson:           0.929\n",
              "Prob(Omnibus):        0.218        Jarque-Bera (JB):        1.779\n",
              "Skew:                 0.518        Prob(JB):                0.411\n",
              "Kurtosis:             3.510        Condition No.:           1500 \n",
              "=================================================================\n",
              "Notes:\n",
              "[1] Standard Errors assume that the covariance matrix of the\n",
              "errors is correctly specified.\n",
              "[2] The condition number is large, 1.5e+03. This might indicate\n",
              "that there are strong multicollinearity or other numerical\n",
              "problems.\n",
              "\"\"\""
            ]
          },
          "execution_count": 40,
          "metadata": {},
          "output_type": "execute_result"
        }
      ],
      "source": [
        "# Create Linear Regression Model\n",
        "model=smf.ols(formula='Salary ~ PC + TD + Age', data=data1).fit()\n",
        "model.summary2()"
      ]
    },
    {
      "cell_type": "markdown",
      "metadata": {
        "id": "tbMnUMswUurZ"
      },
      "source": [
        "c. Player ... earned ... million dollars during the season. According to the model, what is his predicted salary if PC = ..., TD = ..., and Age = ...? "
      ]
    },
    {
      "cell_type": "code",
      "execution_count": 49,
      "metadata": {
        "id": "sjUGvhBmUueM"
      },
      "outputs": [
        {
          "name": "stdout",
          "output_type": "stream",
          "text": [
            "12.712\n"
          ]
        }
      ],
      "source": [
        "# create datadrame with the above independent variables and use .predict on it\n",
        "to_predict=pd.DataFrame({'PC':[70.6], 'TD': [34], 'Age':[30] })\n",
        "predictive_model= model.predict(to_predict)\n",
        "print(round(predictive_model[0], 3))"
      ]
    },
    {
      "cell_type": "markdown",
      "metadata": {
        "id": "cCsn9tNiU7F3"
      },
      "source": [
        "d. Player ... earned .... million dollars during the season. According to the model, what is his predicted salary if PC = ..., TD = ..., and Age = ...?"
      ]
    },
    {
      "cell_type": "code",
      "execution_count": 50,
      "metadata": {
        "id": "XIDu2LP_U_FN"
      },
      "outputs": [
        {
          "name": "stdout",
          "output_type": "stream",
          "text": [
            "12.99\n"
          ]
        }
      ],
      "source": [
        "# create datadrame with the above independent variables and use .predict on it\n",
        "to_predict=pd.DataFrame({'PC':[65.5], 'TD': [28], 'Age':[32] })\n",
        "predictive_model= model.predict(to_predict)\n",
        "print(round(predictive_model[0], 3))"
      ]
    },
    {
      "cell_type": "markdown",
      "metadata": {
        "id": "6iEVdiYQVHM1"
      },
      "source": [
        "e-1. Compute the residual salary for above players."
      ]
    },
    {
      "cell_type": "code",
      "execution_count": 52,
      "metadata": {
        "id": "FdE709r2VHt7"
      },
      "outputs": [
        {
          "name": "stdout",
          "output_type": "stream",
          "text": [
            "0.28\n",
            "-4.98\n"
          ]
        }
      ],
      "source": [
        "# Subtract the actual salary for players from the predicted salary in question c\n",
        "\n",
        "player8_residual=12.9895-12.712\n",
        "player16_residual=8.0073-12.99\n",
        "\n",
        "print(round(player8_residual,2))\n",
        "print(round(player16_residual,2))"
      ]
    },
    {
      "cell_type": "markdown",
      "metadata": {
        "id": "KnPZUkeZVlUA"
      },
      "source": [
        "Exercise 5"
      ]
    },
    {
      "cell_type": "markdown",
      "metadata": {
        "id": "VDzzn7ivVqwf"
      },
      "source": [
        "The accompanying data file contains 20 observations on the binary response variable y along with the predictor variables x1 and x2.\n",
        " "
      ]
    },
    {
      "cell_type": "code",
      "execution_count": 6,
      "metadata": {
        "id": "ZZXj4EI2VsU2"
      },
      "outputs": [
        {
          "data": {
            "text/html": [
              "<div>\n",
              "<style scoped>\n",
              "    .dataframe tbody tr th:only-of-type {\n",
              "        vertical-align: middle;\n",
              "    }\n",
              "\n",
              "    .dataframe tbody tr th {\n",
              "        vertical-align: top;\n",
              "    }\n",
              "\n",
              "    .dataframe thead th {\n",
              "        text-align: right;\n",
              "    }\n",
              "</style>\n",
              "<table border=\"1\" class=\"dataframe\">\n",
              "  <thead>\n",
              "    <tr style=\"text-align: right;\">\n",
              "      <th></th>\n",
              "      <th>y</th>\n",
              "      <th>x1</th>\n",
              "      <th>x2</th>\n",
              "    </tr>\n",
              "  </thead>\n",
              "  <tbody>\n",
              "    <tr>\n",
              "      <th>0</th>\n",
              "      <td>1</td>\n",
              "      <td>38.62</td>\n",
              "      <td>9.88</td>\n",
              "    </tr>\n",
              "    <tr>\n",
              "      <th>1</th>\n",
              "      <td>1</td>\n",
              "      <td>71.51</td>\n",
              "      <td>9.14</td>\n",
              "    </tr>\n",
              "    <tr>\n",
              "      <th>2</th>\n",
              "      <td>0</td>\n",
              "      <td>57.55</td>\n",
              "      <td>19.11</td>\n",
              "    </tr>\n",
              "    <tr>\n",
              "      <th>3</th>\n",
              "      <td>1</td>\n",
              "      <td>52.04</td>\n",
              "      <td>19.14</td>\n",
              "    </tr>\n",
              "    <tr>\n",
              "      <th>4</th>\n",
              "      <td>1</td>\n",
              "      <td>79.54</td>\n",
              "      <td>19.74</td>\n",
              "    </tr>\n",
              "  </tbody>\n",
              "</table>\n",
              "</div>"
            ],
            "text/plain": [
              "   y     x1     x2\n",
              "0  1  38.62   9.88\n",
              "1  1  71.51   9.14\n",
              "2  0  57.55  19.11\n",
              "3  1  52.04  19.14\n",
              "4  1  79.54  19.74"
            ]
          },
          "execution_count": 6,
          "metadata": {},
          "output_type": "execute_result"
        }
      ],
      "source": [
        "# load data (remember to upload the datafile you downloaded from connect to colab)\n",
        "data2=pd.read_excel('Ch09_Q19_V14_Data_File.xlsx')\n",
        "data2.head()"
      ]
    },
    {
      "cell_type": "markdown",
      "metadata": {
        "id": "K6T0E57-WMzl"
      },
      "source": [
        "a. Estimate the linear probability regression model and the logistic regression model. "
      ]
    },
    {
      "cell_type": "code",
      "execution_count": 7,
      "metadata": {
        "id": "FhF-Cn5eWNi2"
      },
      "outputs": [
        {
          "data": {
            "text/html": [
              "<table class=\"simpletable\">\n",
              "<tr>\n",
              "        <td>Model:</td>               <td>OLS</td>         <td>Adj. R-squared:</td>    <td>0.356</td> \n",
              "</tr>\n",
              "<tr>\n",
              "  <td>Dependent Variable:</td>         <td>y</td>               <td>AIC:</td>         <td>23.7938</td>\n",
              "</tr>\n",
              "<tr>\n",
              "         <td>Date:</td>        <td>2025-10-27 19:33</td>        <td>BIC:</td>         <td>26.7810</td>\n",
              "</tr>\n",
              "<tr>\n",
              "   <td>No. Observations:</td>         <td>20</td>          <td>Log-Likelihood:</td>   <td>-8.8969</td>\n",
              "</tr>\n",
              "<tr>\n",
              "       <td>Df Model:</td>              <td>2</td>           <td>F-statistic:</td>      <td>6.260</td> \n",
              "</tr>\n",
              "<tr>\n",
              "     <td>Df Residuals:</td>           <td>17</td>        <td>Prob (F-statistic):</td> <td>0.00918</td>\n",
              "</tr>\n",
              "<tr>\n",
              "      <td>R-squared:</td>            <td>0.424</td>            <td>Scale:</td>        <td>0.16768</td>\n",
              "</tr>\n",
              "</table>\n",
              "<table class=\"simpletable\">\n",
              "<tr>\n",
              "      <td></td>       <th>Coef.</th>  <th>Std.Err.</th>    <th>t</th>     <th>P>|t|</th> <th>[0.025</th>  <th>0.975]</th> \n",
              "</tr>\n",
              "<tr>\n",
              "  <th>Intercept</th> <td>0.5395</td>   <td>0.4855</td>  <td>1.1113</td>  <td>0.2819</td> <td>-0.4848</td> <td>1.5637</td> \n",
              "</tr>\n",
              "<tr>\n",
              "  <th>x1</th>        <td>0.0163</td>   <td>0.0078</td>  <td>2.0893</td>  <td>0.0520</td> <td>-0.0002</td> <td>0.0328</td> \n",
              "</tr>\n",
              "<tr>\n",
              "  <th>x2</th>        <td>-0.0551</td>  <td>0.0172</td>  <td>-3.1949</td> <td>0.0053</td> <td>-0.0915</td> <td>-0.0187</td>\n",
              "</tr>\n",
              "</table>\n",
              "<table class=\"simpletable\">\n",
              "<tr>\n",
              "     <td>Omnibus:</td>    <td>0.727</td>  <td>Durbin-Watson:</td>   <td>1.966</td>\n",
              "</tr>\n",
              "<tr>\n",
              "  <td>Prob(Omnibus):</td> <td>0.695</td> <td>Jarque-Bera (JB):</td> <td>0.659</td>\n",
              "</tr>\n",
              "<tr>\n",
              "       <td>Skew:</td>     <td>0.002</td>     <td>Prob(JB):</td>     <td>0.719</td>\n",
              "</tr>\n",
              "<tr>\n",
              "     <td>Kurtosis:</td>   <td>2.111</td>  <td>Condition No.:</td>    <td>317</td> \n",
              "</tr>\n",
              "</table><br/>\n",
              "Notes:<br/>\n",
              "[1] Standard Errors assume that the covariance matrix of the errors is correctly specified."
            ],
            "text/latex": [
              "\\begin{table}\n",
              "\\caption{Results: Ordinary least squares}\n",
              "\\label{}\n",
              "\\begin{center}\n",
              "\\begin{tabular}{llll}\n",
              "\\hline\n",
              "Model:              & OLS              & Adj. R-squared:     & 0.356    \\\\\n",
              "Dependent Variable: & y                & AIC:                & 23.7938  \\\\\n",
              "Date:               & 2025-10-27 19:33 & BIC:                & 26.7810  \\\\\n",
              "No. Observations:   & 20               & Log-Likelihood:     & -8.8969  \\\\\n",
              "Df Model:           & 2                & F-statistic:        & 6.260    \\\\\n",
              "Df Residuals:       & 17               & Prob (F-statistic): & 0.00918  \\\\\n",
              "R-squared:          & 0.424            & Scale:              & 0.16768  \\\\\n",
              "\\hline\n",
              "\\end{tabular}\n",
              "\\end{center}\n",
              "\n",
              "\\begin{center}\n",
              "\\begin{tabular}{lrrrrrr}\n",
              "\\hline\n",
              "          &   Coef. & Std.Err. &       t & P$> |$t$|$ &  [0.025 &  0.975]  \\\\\n",
              "\\hline\n",
              "Intercept &  0.5395 &   0.4855 &  1.1113 &      0.2819 & -0.4848 &  1.5637  \\\\\n",
              "x1        &  0.0163 &   0.0078 &  2.0893 &      0.0520 & -0.0002 &  0.0328  \\\\\n",
              "x2        & -0.0551 &   0.0172 & -3.1949 &      0.0053 & -0.0915 & -0.0187  \\\\\n",
              "\\hline\n",
              "\\end{tabular}\n",
              "\\end{center}\n",
              "\n",
              "\\begin{center}\n",
              "\\begin{tabular}{llll}\n",
              "\\hline\n",
              "Omnibus:       & 0.727 & Durbin-Watson:    & 1.966  \\\\\n",
              "Prob(Omnibus): & 0.695 & Jarque-Bera (JB): & 0.659  \\\\\n",
              "Skew:          & 0.002 & Prob(JB):         & 0.719  \\\\\n",
              "Kurtosis:      & 2.111 & Condition No.:    & 317    \\\\\n",
              "\\hline\n",
              "\\end{tabular}\n",
              "\\end{center}\n",
              "\\end{table}\n",
              "\\bigskip\n",
              "Notes: \\newline \n",
              "[1] Standard Errors assume that the covariance matrix of the errors is correctly specified."
            ],
            "text/plain": [
              "<class 'statsmodels.iolib.summary2.Summary'>\n",
              "\"\"\"\n",
              "                Results: Ordinary least squares\n",
              "================================================================\n",
              "Model:              OLS              Adj. R-squared:     0.356  \n",
              "Dependent Variable: y                AIC:                23.7938\n",
              "Date:               2025-10-27 19:33 BIC:                26.7810\n",
              "No. Observations:   20               Log-Likelihood:     -8.8969\n",
              "Df Model:           2                F-statistic:        6.260  \n",
              "Df Residuals:       17               Prob (F-statistic): 0.00918\n",
              "R-squared:          0.424            Scale:              0.16768\n",
              "-----------------------------------------------------------------\n",
              "              Coef.   Std.Err.     t     P>|t|    [0.025   0.975]\n",
              "-----------------------------------------------------------------\n",
              "Intercept     0.5395    0.4855   1.1113  0.2819  -0.4848   1.5637\n",
              "x1            0.0163    0.0078   2.0893  0.0520  -0.0002   0.0328\n",
              "x2           -0.0551    0.0172  -3.1949  0.0053  -0.0915  -0.0187\n",
              "----------------------------------------------------------------\n",
              "Omnibus:               0.727       Durbin-Watson:          1.966\n",
              "Prob(Omnibus):         0.695       Jarque-Bera (JB):       0.659\n",
              "Skew:                  0.002       Prob(JB):               0.719\n",
              "Kurtosis:              2.111       Condition No.:          317  \n",
              "================================================================\n",
              "Notes:\n",
              "[1] Standard Errors assume that the covariance matrix of the\n",
              "errors is correctly specified.\n",
              "\"\"\""
            ]
          },
          "execution_count": 7,
          "metadata": {},
          "output_type": "execute_result"
        }
      ],
      "source": [
        "# Create Linear Regression Model\n",
        "LinModel=smf.ols(formula= 'y ~ x1 + x2', data=data2).fit()\n",
        "LinModel.summary2()"
      ]
    },
    {
      "cell_type": "code",
      "execution_count": 8,
      "metadata": {
        "id": "DLYU1IlLWSJU"
      },
      "outputs": [
        {
          "data": {
            "text/html": [
              "<table class=\"simpletable\">\n",
              "<tr>\n",
              "        <td>Model:</td>               <td>GLM</td>            <td>AIC:</td>        <td>22.2849</td>\n",
              "</tr>\n",
              "<tr>\n",
              "    <td>Link Function:</td>          <td>Logit</td>           <td>BIC:</td>       <td>-34.6425</td>\n",
              "</tr>\n",
              "<tr>\n",
              "  <td>Dependent Variable:</td>         <td>y</td>        <td>Log-Likelihood:</td>  <td>-8.1425</td>\n",
              "</tr>\n",
              "<tr>\n",
              "         <td>Date:</td>        <td>2025-10-27 19:33</td>    <td>LL-Null:</td>      <td>-13.763</td>\n",
              "</tr>\n",
              "<tr>\n",
              "   <td>No. Observations:</td>         <td>20</td>           <td>Deviance:</td>     <td>16.285</td> \n",
              "</tr>\n",
              "<tr>\n",
              "       <td>Df Model:</td>              <td>2</td>         <td>Pearson chi2:</td>    <td>15.2</td>  \n",
              "</tr>\n",
              "<tr>\n",
              "     <td>Df Residuals:</td>           <td>17</td>            <td>Scale:</td>       <td>1.0000</td> \n",
              "</tr>\n",
              "<tr>\n",
              "        <td>Method:</td>             <td>IRLS</td>              <td></td>             <td></td>    \n",
              "</tr>\n",
              "</table>\n",
              "<table class=\"simpletable\">\n",
              "<tr>\n",
              "      <td></td>       <th>Coef.</th>  <th>Std.Err.</th>    <th>z</th>     <th>P>|z|</th> <th>[0.025</th>  <th>0.975]</th> \n",
              "</tr>\n",
              "<tr>\n",
              "  <th>Intercept</th> <td>-1.0196</td>  <td>3.1112</td>  <td>-0.3277</td> <td>0.7431</td> <td>-7.1174</td> <td>5.0782</td> \n",
              "</tr>\n",
              "<tr>\n",
              "  <th>x1</th>        <td>0.1437</td>   <td>0.0821</td>  <td>1.7501</td>  <td>0.0801</td> <td>-0.0172</td> <td>0.3046</td> \n",
              "</tr>\n",
              "<tr>\n",
              "  <th>x2</th>        <td>-0.4037</td>  <td>0.1802</td>  <td>-2.2399</td> <td>0.0251</td> <td>-0.7569</td> <td>-0.0505</td>\n",
              "</tr>\n",
              "</table><br/>\n"
            ],
            "text/latex": [
              "\\begin{table}\n",
              "\\caption{Results: Generalized linear model}\n",
              "\\label{}\n",
              "\\begin{center}\n",
              "\\begin{tabular}{llll}\n",
              "\\hline\n",
              "Model:              & GLM              & AIC:            & 22.2849   \\\\\n",
              "Link Function:      & Logit            & BIC:            & -34.6425  \\\\\n",
              "Dependent Variable: & y                & Log-Likelihood: & -8.1425   \\\\\n",
              "Date:               & 2025-10-27 19:33 & LL-Null:        & -13.763   \\\\\n",
              "No. Observations:   & 20               & Deviance:       & 16.285    \\\\\n",
              "Df Model:           & 2                & Pearson chi2:   & 15.2      \\\\\n",
              "Df Residuals:       & 17               & Scale:          & 1.0000    \\\\\n",
              "Method:             & IRLS             &                 &           \\\\\n",
              "\\hline\n",
              "\\end{tabular}\n",
              "\\end{center}\n",
              "\n",
              "\\begin{center}\n",
              "\\begin{tabular}{lrrrrrr}\n",
              "\\hline\n",
              "          &   Coef. & Std.Err. &       z & P$> |$z$|$ &  [0.025 &  0.975]  \\\\\n",
              "\\hline\n",
              "Intercept & -1.0196 &   3.1112 & -0.3277 &      0.7431 & -7.1174 &  5.0782  \\\\\n",
              "x1        &  0.1437 &   0.0821 &  1.7501 &      0.0801 & -0.0172 &  0.3046  \\\\\n",
              "x2        & -0.4037 &   0.1802 & -2.2399 &      0.0251 & -0.7569 & -0.0505  \\\\\n",
              "\\hline\n",
              "\\end{tabular}\n",
              "\\end{center}\n",
              "\\end{table}\n",
              "\\bigskip\n"
            ],
            "text/plain": [
              "<class 'statsmodels.iolib.summary2.Summary'>\n",
              "\"\"\"\n",
              "              Results: Generalized linear model\n",
              "=============================================================\n",
              "Model:              GLM              AIC:            22.2849 \n",
              "Link Function:      Logit            BIC:            -34.6425\n",
              "Dependent Variable: y                Log-Likelihood: -8.1425 \n",
              "Date:               2025-10-27 19:33 LL-Null:        -13.763 \n",
              "No. Observations:   20               Deviance:       16.285  \n",
              "Df Model:           2                Pearson chi2:   15.2    \n",
              "Df Residuals:       17               Scale:          1.0000  \n",
              "Method:             IRLS                                     \n",
              "-------------------------------------------------------------\n",
              "               Coef.  Std.Err.    z    P>|z|   [0.025  0.975]\n",
              "-------------------------------------------------------------\n",
              "Intercept     -1.0196   3.1112 -0.3277 0.7431 -7.1174  5.0782\n",
              "x1             0.1437   0.0821  1.7501 0.0801 -0.0172  0.3046\n",
              "x2            -0.4037   0.1802 -2.2399 0.0251 -0.7569 -0.0505\n",
              "=============================================================\n",
              "\n",
              "\"\"\""
            ]
          },
          "execution_count": 8,
          "metadata": {},
          "output_type": "execute_result"
        }
      ],
      "source": [
        "# Create Logistic Regression Model\n",
        "LogModel=smf.glm(formula= 'y ~ x1 + x2', family=families.Binomial(), data=data2).fit()\n",
        "LogModel.summary2()"
      ]
    },
    {
      "cell_type": "markdown",
      "metadata": {
        "id": "2IQymTcuWi5y"
      },
      "source": [
        "b. Compute the accuracy rates of both models. "
      ]
    },
    {
      "cell_type": "code",
      "execution_count": 9,
      "metadata": {
        "id": "HsxkynjUWjvj"
      },
      "outputs": [
        {
          "data": {
            "text/plain": [
              "np.float64(0.8)"
            ]
          },
          "execution_count": 9,
          "metadata": {},
          "output_type": "execute_result"
        }
      ],
      "source": [
        "# Compute accuracy of Linear Model (check on average (np.mean) when is the actual data data['y'] equal to the predictions. Don`t forget to round your predictions np.round() so you get 0 or 1 values\n",
        "np.mean(data2['y']==np.round(LinModel.predict()))"
      ]
    },
    {
      "cell_type": "code",
      "execution_count": 60,
      "metadata": {
        "id": "bzOXkODqXY0z"
      },
      "outputs": [
        {
          "data": {
            "text/plain": [
              "np.float64(0.85)"
            ]
          },
          "execution_count": 60,
          "metadata": {},
          "output_type": "execute_result"
        }
      ],
      "source": [
        "# do the same thing for your logistic model\n",
        "np.mean(data2['y']==np.round(LogModel.predict()))"
      ]
    },
    {
      "cell_type": "markdown",
      "metadata": {
        "id": "Nk9WLNijXgBA"
      },
      "source": [
        "c. Use the preferred model to predict yˆ for x1 = ..., and x2 = .... "
      ]
    },
    {
      "cell_type": "code",
      "execution_count": null,
      "metadata": {
        "id": "q4IlqMBYXkWo"
      },
      "outputs": [
        {
          "name": "stdout",
          "output_type": "stream",
          "text": [
            "0.5831861951398174\n"
          ]
        }
      ],
      "source": [
        "# create datadrame with the above x1 and x2 values, and predict with the  preferred model (the one with the higher accuracy) in the previous exercise.\n",
        "predictor=pd.DataFrame({'x1':[60], 'x2': [18]})\n",
        "\n",
        "\n",
        "predictive= LogModel.predict(predictor)\n",
        "print(predictive[0])"
      ]
    }
  ],
  "metadata": {
    "colab": {
      "collapsed_sections": [],
      "name": "Assignment_8_Your_Name.ipynb",
      "provenance": []
    },
    "kernelspec": {
      "display_name": "Python 3",
      "name": "python3"
    },
    "language_info": {
      "codemirror_mode": {
        "name": "ipython",
        "version": 3
      },
      "file_extension": ".py",
      "mimetype": "text/x-python",
      "name": "python",
      "nbconvert_exporter": "python",
      "pygments_lexer": "ipython3",
      "version": "3.13.4"
    }
  },
  "nbformat": 4,
  "nbformat_minor": 0
}
